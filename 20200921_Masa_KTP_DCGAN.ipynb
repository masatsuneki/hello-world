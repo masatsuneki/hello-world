{
  "nbformat": 4,
  "nbformat_minor": 0,
  "metadata": {
    "colab": {
      "name": "20200921_Masa_KTP-DCGAN",
      "provenance": [],
      "include_colab_link": true
    },
    "kernelspec": {
      "name": "python3",
      "display_name": "Python 3"
    }
  },
  "cells": [
    {
      "cell_type": "markdown",
      "metadata": {
        "id": "view-in-github",
        "colab_type": "text"
      },
      "source": [
        "<a href=\"https://colab.research.google.com/github/masatsuneki/hello-world/blob/master/20200921_Masa_KTP_DCGAN.ipynb\" target=\"_parent\"><img src=\"https://colab.research.google.com/assets/colab-badge.svg\" alt=\"Open In Colab\"/></a>"
      ]
    },
    {
      "cell_type": "markdown",
      "metadata": {
        "id": "7ZoKnqIwCfKR",
        "colab_type": "text"
      },
      "source": [
        "このノートブックは、下記の記事をベースにDCGANを利用した画像の生成を行うサンプルとなっています。\n",
        "\n",
        "https://qiita.com/enmaru/items/01c3abccd4b132865686"
      ]
    },
    {
      "cell_type": "markdown",
      "metadata": {
        "id": "muYifqf5C_vW",
        "colab_type": "text"
      },
      "source": [
        "#前書き\n",
        "DCGAN(Deep Convolutional GAN)は2015年11月に論文が公開された、CNN(畳み込みニューラルネットワーク)を利用した、教師なし学習による画像の生成です。\n",
        "\n",
        "元論文URL : https://arxiv.org/abs/1511.06434\n",
        "\n",
        "それまで、CNNを用いた実例は教師あり学習がメインで教師なし学習は注目されていませんでした。\n",
        "\n",
        "それは、CNNを使いGANを構成すると、中々生成がうまくいかなかったためです。しかし、この論文ではその学習を安定させるための方法がまとめられています。\n",
        "\n",
        "本ノートブックは、その方法をTensorFlowで実装したものを、極力簡単に試せるようになっています。\n",
        "\n",
        "(現在では、さらに精度の高い画像生成を行うGANも公開されています。)"
      ]
    },
    {
      "cell_type": "markdown",
      "metadata": {
        "id": "NPTdCZIBGXHh",
        "colab_type": "text"
      },
      "source": [
        "#コード実行前に行う前に ※必須\n",
        "## colabの設定\n",
        "DCGANの学習を高速で行うには、GPU設定が必要です。\n",
        "\n",
        "そのため、上部メニューより下記の設定を行ってください。\n",
        "\n",
        "**ランタイム > ランタイムのタイプを変更 > 「ハードウェアアクセラレータ」を「None」から「GPU」に変更 > 保存**\n",
        "\n",
        "この設定は、インスタンスが新しくなるたび(12時間で強制的にリセット)毎回必要になります。\n",
        "\n",
        "##データセットの準備\n",
        "\n",
        "学習に使う画像は、下記の要件に沿って準備してGoogleドライブにアップしておいてください。「colab」などディレクトリを切ってアップしておいた方が管理しやすいかと思います。\n",
        "\n",
        "*   png形式\n",
        "*   exif情報の削除\n",
        "*   画像の大きさの統一 (デフォルトでは縦横108px)\n",
        "*   画像枚数は64枚～\n",
        "*   zipに圧縮(フォルダごと圧縮でなく、画像をすべて選択の上圧縮してください。サブディレクトリが発生しないように)\n",
        "\n"
      ]
    },
    {
      "cell_type": "markdown",
      "metadata": {
        "id": "yyb5xRP_IDtQ",
        "colab_type": "text"
      },
      "source": [
        "#実行の流れ\n",
        "下記に記載されているコマンドを一行ずつ実行していけば、実行を進められるようになっています。\n",
        "\n",
        "実行は、各セルにカーソルを合わせると出てくる実行ボタンをクリックするか、セル内でフォーカスがあっている状態で「Shift+Enter」を入力してください。\n",
        "\n",
        "また、Googleドライブ上の画像のデータセットを選ぶ部分では、適宜自身で用意したzipファイルを設置した場所にパスを書き換えてください。"
      ]
    },
    {
      "cell_type": "code",
      "metadata": {
        "id": "z2zdhSOoHjC0",
        "colab_type": "code",
        "colab": {}
      },
      "source": [
        "# ホームディレクトリに移動\n",
        "cd /home"
      ],
      "execution_count": null,
      "outputs": []
    },
    {
      "cell_type": "code",
      "metadata": {
        "id": "bHRD_8N_HmVy",
        "colab_type": "code",
        "colab": {}
      },
      "source": [
        "# githubからDCGANのコードをコピー\n",
        "!git clone https://github.com/carpedm20/DCGAN-tensorflow"
      ],
      "execution_count": null,
      "outputs": []
    },
    {
      "cell_type": "markdown",
      "metadata": {
        "id": "JMSnIXcOMfd4",
        "colab_type": "text"
      },
      "source": [
        "下記コマンドを実行すると、Googleドライブに接続するための確認ウインドウが出てきますので、案内に沿って設定を完了してください。"
      ]
    },
    {
      "cell_type": "code",
      "metadata": {
        "id": "JCRqsrSTJ7Bv",
        "colab_type": "code",
        "colab": {}
      },
      "source": [
        "# Googleドライブに接続\n",
        "from google.colab import drive\n",
        "drive.mount('/content/drive')"
      ],
      "execution_count": null,
      "outputs": []
    },
    {
      "cell_type": "code",
      "metadata": {
        "id": "R2tTv6LiK4nQ",
        "colab_type": "code",
        "colab": {}
      },
      "source": [
        "# データセットを保存するディレクトリの作成・移動\n",
        "!mkdir DCGAN-tensorflow/data"
      ],
      "execution_count": null,
      "outputs": []
    },
    {
      "cell_type": "code",
      "metadata": {
        "id": "CDJ6af25MzHU",
        "colab_type": "code",
        "colab": {}
      },
      "source": [
        "cd DCGAN-tensorflow/data"
      ],
      "execution_count": null,
      "outputs": []
    },
    {
      "cell_type": "markdown",
      "metadata": {
        "id": "0A1VOfk2NEYt",
        "colab_type": "text"
      },
      "source": [
        "下記コマンドで、Googleドライブに保存されたデータセットをColabにコピーします。\n",
        "\n",
        "このままだと、Googleドライブ上の「colab」フォルダの「gan-imgset.zip」というファイルをコピーする状態になっているため、適宜自身でファイルを保存したパスに書き換えた上で実行してください。\n",
        "\n",
        "以降も、ファイル名が書かれた部分はそれぞれ書き換えて実行してください。"
      ]
    },
    {
      "cell_type": "code",
      "metadata": {
        "id": "JImwxVWtM49P",
        "colab_type": "code",
        "colab": {}
      },
      "source": [
        "!cp '/content/drive/My Drive/colab/gan-imgset.zip' '/home/DCGAN-tensorflow/data'"
      ],
      "execution_count": null,
      "outputs": []
    },
    {
      "cell_type": "code",
      "metadata": {
        "id": "JzdZmZTFQHfs",
        "colab_type": "code",
        "colab": {}
      },
      "source": [
        "!unzip -q gan-imgset.zip -d gan-imgset"
      ],
      "execution_count": null,
      "outputs": []
    },
    {
      "cell_type": "code",
      "metadata": {
        "id": "WDvt8_8GQRZw",
        "colab_type": "code",
        "colab": {}
      },
      "source": [
        "# DCGANディレクトリに移動\n",
        "cd /home/DCGAN-tensorflow/"
      ],
      "execution_count": null,
      "outputs": []
    },
    {
      "cell_type": "markdown",
      "metadata": {
        "id": "shu9-UAVRLwX",
        "colab_type": "text"
      },
      "source": [
        "下記コマンド実行後、学習が開始されます。\n",
        "\n",
        "##各種オプション\n",
        "###入力画像のサイズ指定\n",
        "\n",
        "--input_height=100\n",
        "\n",
        "(下記実行例では、画像の縦幅が100pxのものを学習する設定になっています。108pxで準備している場合は、このオプションを削除するか--input_height=108と指定して実行してください。)\n",
        "\n",
        "### 学習画像の中心から切り抜く\n",
        "--crop\n",
        "\n",
        "### 画像のファイル名指定\n",
        "--input_fname_pattern=\"*_cropped.png\"\n",
        "\n",
        "(上記であれば、ファイル名末が「_cropped.png」になっている画像だけを学習に使用)\n",
        "\n",
        "### 前回の学習結果を利用する\n",
        "--checkpoint_dir = './training_checkpoints'\n",
        "\n",
        "### 生成画像を出力する頻度\n",
        "--sample_freq=500\n",
        "(epochを大きくする場合は、この値も大きくして良いかも。デフォルト : 200)\n",
        "\n",
        "### 何回繰り返して学習させるか\n",
        "--epoch=25\n",
        "\n",
        "学習回数を増やすほど、生成の精度は基本的に向上していきます。\n",
        "\n",
        "学習時間は、データセットの画像枚数に比例しますが、数千枚程度であれば、epoch25で10分ほどで完了します。\n",
        "\n",
        "epochを数千回にすると、ほどよく学習が収束していきますが、当然学習時間も延びていきます。\n",
        "\n",
        "学習中、ブラウザが多くのメモリを使用するため、他の作業を行うことが困難になるため注意してください。\n",
        "\n",
        "その他オプションは、適宜元コードを参照してください。\n",
        "\n",
        "https://github.com/carpedm20/DCGAN-tensorflow/blob/master/main.py"
      ]
    },
    {
      "cell_type": "code",
      "metadata": {
        "id": "1mHrzriOQaNH",
        "colab_type": "code",
        "colab": {}
      },
      "source": [
        "# DCGANの実行\n",
        "!python2 main.py --dataset gan-imgset --input_height=100 --input_fname_pattern=\"*.png\" --epoch=25 --sample_freq=100 --train --crop"
      ],
      "execution_count": null,
      "outputs": []
    },
    {
      "cell_type": "markdown",
      "metadata": {
        "id": "afQ6y6MVUbOx",
        "colab_type": "text"
      },
      "source": [
        "## 学習結果の表示・保存\n",
        "\n",
        "*   画像の表示\n",
        "*   画像単体の保存\n",
        "*   画像のGIFアニメ化/ダウンロード\n",
        "*   各結果をドライブにコピー"
      ]
    },
    {
      "cell_type": "code",
      "metadata": {
        "id": "UxqYBwL8Ufmf",
        "colab_type": "code",
        "colab": {}
      },
      "source": [
        "# 学習結果が保存されたディレクトリに移動\n",
        "cd /home/DCGAN-tensorflow/out"
      ],
      "execution_count": null,
      "outputs": []
    },
    {
      "cell_type": "code",
      "metadata": {
        "id": "tJcz1DAYUnZg",
        "colab_type": "code",
        "colab": {}
      },
      "source": [
        "# ファイル一覧の表示\n",
        "ls"
      ],
      "execution_count": null,
      "outputs": []
    },
    {
      "cell_type": "markdown",
      "metadata": {
        "id": "Ub21V7BsUtri",
        "colab_type": "text"
      },
      "source": [
        "表示されたディレクトリ名の中で最新のものをコピーして、下記コマンドの「***」の部分を書き換え、実行してください。"
      ]
    },
    {
      "cell_type": "code",
      "metadata": {
        "id": "jPxe76N4VGDP",
        "colab_type": "code",
        "colab": {}
      },
      "source": [
        "cd ***"
      ],
      "execution_count": null,
      "outputs": []
    },
    {
      "cell_type": "markdown",
      "metadata": {
        "id": "6GAP05paXTQB",
        "colab_type": "text"
      },
      "source": [
        "### 画像の表示"
      ]
    },
    {
      "cell_type": "code",
      "metadata": {
        "id": "idnRldZEVMAx",
        "colab_type": "code",
        "colab": {}
      },
      "source": [
        "# ファイル一覧の表示\n",
        "ls samples"
      ],
      "execution_count": null,
      "outputs": []
    },
    {
      "cell_type": "markdown",
      "metadata": {
        "id": "RCRaKHJlXwmo",
        "colab_type": "text"
      },
      "source": [
        "表示したい画像ファイル名を選び、下記コマンド中の「train_***.png」の部分をその名前に書き換えて実行してください。\n",
        "\n",
        "学習する画像の枚数が少なく、epoch25回など学習回数が少ない場合、画像が生成されません。その場合、epoch100など回数を増やした上で改めて学習を実行してください。"
      ]
    },
    {
      "cell_type": "code",
      "metadata": {
        "id": "45MMZSxfXvG7",
        "colab_type": "code",
        "colab": {}
      },
      "source": [
        "from PIL import Image\n",
        "import matplotlib.pyplot as plt\n",
        "import numpy as np\n",
        "\n",
        "#画像内に線を表示しない\n",
        "fig,ax = plt.subplots()\n",
        "ax.tick_params(labelbottom=\"off\",bottom=\"off\")\n",
        "ax.tick_params(labelleft=\"off\",left=\"off\")\n",
        "ax.set_xticklabels([]) \n",
        "ax.axis('off')\n",
        "#画像の読み込み\n",
        "im = Image.open(\"samples/train_***.png\")\n",
        "#画像をarrayに変換\n",
        "im_list = np.asarray(im)\n",
        "#貼り付け\n",
        "plt.imshow(im_list)\n",
        "#表示\n",
        "plt.show()"
      ],
      "execution_count": null,
      "outputs": []
    },
    {
      "cell_type": "markdown",
      "metadata": {
        "id": "ZytxFbUiXbEg",
        "colab_type": "text"
      },
      "source": [
        "### 画像単体のダウンロード"
      ]
    },
    {
      "cell_type": "code",
      "metadata": {
        "id": "0FtAw8L2XaaS",
        "colab_type": "code",
        "colab": {}
      },
      "source": [
        "from google.colab import files\n",
        "files.download('samples/train_***.png')"
      ],
      "execution_count": null,
      "outputs": []
    },
    {
      "cell_type": "markdown",
      "metadata": {
        "id": "TzHd10G7XXI4",
        "colab_type": "text"
      },
      "source": [
        "### 画像のGIFアニメ化/ダウンロード"
      ]
    },
    {
      "cell_type": "code",
      "metadata": {
        "id": "Sqkz--ZNXemK",
        "colab_type": "code",
        "colab": {}
      },
      "source": [
        "from PIL import Image\n",
        "import glob\n",
        "\n",
        "files = sorted(glob.glob('./samples/*.png'))\n",
        "images = list(map(lambda file: Image.open(file), files))\n",
        "\n",
        "images[0].save('./samples/out.gif', save_all=True, append_images=images[1:], duration=300, loop=0)"
      ],
      "execution_count": null,
      "outputs": []
    },
    {
      "cell_type": "code",
      "metadata": {
        "id": "frNuCZbuuLSM",
        "colab_type": "code",
        "colab": {}
      },
      "source": [
        "from google.colab import files\n",
        "files.download('./samples/out.gif')"
      ],
      "execution_count": null,
      "outputs": []
    },
    {
      "cell_type": "markdown",
      "metadata": {
        "id": "ck-g0EjRXhoe",
        "colab_type": "text"
      },
      "source": [
        "### 各結果をGoogleドライブにコピー"
      ]
    },
    {
      "cell_type": "code",
      "metadata": {
        "id": "Gq_Toc8-Xj2R",
        "colab_type": "code",
        "colab": {}
      },
      "source": [
        "# 生成画像すべてをGoogleドライブにコピー\n",
        "# 保存先は適宜書き換えて実行してください。\n",
        "!mkdir \"/content/drive/My Drive/colab/gan\""
      ],
      "execution_count": null,
      "outputs": []
    },
    {
      "cell_type": "code",
      "metadata": {
        "id": "C_MUvrfkotqN",
        "colab_type": "code",
        "colab": {}
      },
      "source": [
        "!cp -r samples \"/content/drive/My Drive/colab/gan/samples1\""
      ],
      "execution_count": null,
      "outputs": []
    },
    {
      "cell_type": "code",
      "metadata": {
        "id": "vE__3AlEY7P_",
        "colab_type": "code",
        "colab": {}
      },
      "source": [
        "# チェックポイントをGoogleドライブにコピー\n",
        "# 保存先は適宜書き換えて実行してください。\n",
        "#\n",
        "# colabのインスタンスがリセットされても、学習のチェックポイントを、\n",
        "# Google Driveからコピーしてきて実行可能になります。 \n",
        "!cp -r checkpoint \"/content/drive/My Drive/colab/gan/checkpoint1\""
      ],
      "execution_count": null,
      "outputs": []
    },
    {
      "cell_type": "code",
      "metadata": {
        "id": "vTQ338UWsQtL",
        "colab_type": "code",
        "colab": {}
      },
      "source": [
        ""
      ],
      "execution_count": null,
      "outputs": []
    }
  ]
}